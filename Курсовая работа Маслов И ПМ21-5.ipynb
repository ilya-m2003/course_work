{
 "cells": [
  {
   "cell_type": "markdown",
   "id": "dbd7efe8",
   "metadata": {},
   "source": [
    "# 1. Подготовительный этап"
   ]
  },
  {
   "cell_type": "markdown",
   "id": "338ece9a",
   "metadata": {
    "id": "338ece9a"
   },
   "source": [
    "**Импортируем датасет в pandas.dataFrame**"
   ]
  },
  {
   "cell_type": "code",
   "execution_count": 183,
   "id": "ebc61cee",
   "metadata": {},
   "outputs": [
    {
     "data": {
      "text/html": [
       "<div>\n",
       "<style scoped>\n",
       "    .dataframe tbody tr th:only-of-type {\n",
       "        vertical-align: middle;\n",
       "    }\n",
       "\n",
       "    .dataframe tbody tr th {\n",
       "        vertical-align: top;\n",
       "    }\n",
       "\n",
       "    .dataframe thead th {\n",
       "        text-align: right;\n",
       "    }\n",
       "</style>\n",
       "<table border=\"1\" class=\"dataframe\">\n",
       "  <thead>\n",
       "    <tr style=\"text-align: right;\">\n",
       "      <th></th>\n",
       "      <th>password</th>\n",
       "      <th>strength</th>\n",
       "    </tr>\n",
       "  </thead>\n",
       "  <tbody>\n",
       "    <tr>\n",
       "      <th>0</th>\n",
       "      <td>6q5qrdopq</td>\n",
       "      <td>1</td>\n",
       "    </tr>\n",
       "    <tr>\n",
       "      <th>1</th>\n",
       "      <td>sweety4</td>\n",
       "      <td>0</td>\n",
       "    </tr>\n",
       "    <tr>\n",
       "      <th>2</th>\n",
       "      <td>ipeni773</td>\n",
       "      <td>1</td>\n",
       "    </tr>\n",
       "    <tr>\n",
       "      <th>3</th>\n",
       "      <td>ball2529</td>\n",
       "      <td>1</td>\n",
       "    </tr>\n",
       "    <tr>\n",
       "      <th>4</th>\n",
       "      <td>ogegum317</td>\n",
       "      <td>1</td>\n",
       "    </tr>\n",
       "    <tr>\n",
       "      <th>...</th>\n",
       "      <td>...</td>\n",
       "      <td>...</td>\n",
       "    </tr>\n",
       "    <tr>\n",
       "      <th>23805</th>\n",
       "      <td>kv25on94</td>\n",
       "      <td>1</td>\n",
       "    </tr>\n",
       "    <tr>\n",
       "      <th>23806</th>\n",
       "      <td>torbay12</td>\n",
       "      <td>1</td>\n",
       "    </tr>\n",
       "    <tr>\n",
       "      <th>23807</th>\n",
       "      <td>kimthoa12345</td>\n",
       "      <td>1</td>\n",
       "    </tr>\n",
       "    <tr>\n",
       "      <th>23808</th>\n",
       "      <td>EEEEEEEEE</td>\n",
       "      <td>0</td>\n",
       "    </tr>\n",
       "    <tr>\n",
       "      <th>23809</th>\n",
       "      <td>qcfhaxv690</td>\n",
       "      <td>1</td>\n",
       "    </tr>\n",
       "  </tbody>\n",
       "</table>\n",
       "<p>23810 rows × 2 columns</p>\n",
       "</div>"
      ],
      "text/plain": [
       "           password  strength\n",
       "0         6q5qrdopq         1\n",
       "1           sweety4         0\n",
       "2          ipeni773         1\n",
       "3          ball2529         1\n",
       "4         ogegum317         1\n",
       "...             ...       ...\n",
       "23805      kv25on94         1\n",
       "23806      torbay12         1\n",
       "23807  kimthoa12345         1\n",
       "23808     EEEEEEEEE         0\n",
       "23809    qcfhaxv690         1\n",
       "\n",
       "[23810 rows x 2 columns]"
      ]
     },
     "execution_count": 183,
     "metadata": {},
     "output_type": "execute_result"
    }
   ],
   "source": [
    "import pandas as pd\n",
    "df = pd.read_csv(\"data.csv\", index_col=0)\n",
    "df"
   ]
  },
  {
   "cell_type": "markdown",
   "id": "ed7ca3a0",
   "metadata": {},
   "source": [
    "**Очистка датасета от возможных отсутствующих значений**\\\n",
    "**(если найдутся строки, где хотя бы одно значение NaN, они будут удалены)**"
   ]
  },
  {
   "cell_type": "code",
   "execution_count": 86,
   "id": "cf264786",
   "metadata": {
    "colab": {
     "base_uri": "https://localhost:8080/"
    },
    "id": "cf264786",
    "outputId": "5cf0dd73-e47c-415d-b5c9-600fc18a0a18"
   },
   "outputs": [
    {
     "name": "stdout",
     "output_type": "stream",
     "text": [
      "23810\n",
      "0\n",
      "0\n"
     ]
    }
   ],
   "source": [
    "print(len(df))\n",
    "print(len(df[df['password'].isnull()]))\n",
    "print(len(df[df['strength'].isnull()]))"
   ]
  },
  {
   "cell_type": "markdown",
   "id": "67a9962f",
   "metadata": {
    "id": "67a9962f"
   },
   "source": [
    "**Атрибут password - строковое представление пароля.**\\\n",
    "**Основная его характеристика - количество символов.**\n",
    "\n",
    "**Атрибут strength - стойкость пароля ко взлому:**\\\n",
    "**0 - слабый (относительно легко взломать)**\\\n",
    "**1 - средний (стойкость средняя)**\\\n",
    "**2 - сильный (взломать сложно)**"
   ]
  },
  {
   "cell_type": "markdown",
   "id": "58a3b5c0",
   "metadata": {
    "id": "58a3b5c0"
   },
   "source": [
    "**Добавим в датасет следующие признаки:**\n",
    "\n",
    "**length - длина пароля (количество символов)**\\\n",
    "**digit - признак, отвечающий за содержание цифр в пароле (0 - нет, 1 - да)**\\\n",
    "**lower & upper - содержит ли пароль одновременно заглавные и строчные буквы (0 - нет, 1 - да)**\\\n",
    "**other symbols - содержит ли пароль особые символы (0 - нет, 1 - да)**\\\n",
    "**distinct symbols - сколько различных символов содержит пароль**"
   ]
  },
  {
   "cell_type": "code",
   "execution_count": 87,
   "id": "03b72789",
   "metadata": {
    "id": "03b72789"
   },
   "outputs": [],
   "source": [
    "df['length'] = df[\"password\"].str.len()"
   ]
  },
  {
   "cell_type": "code",
   "execution_count": 88,
   "id": "77b7e319",
   "metadata": {
    "id": "77b7e319"
   },
   "outputs": [],
   "source": [
    "def is_digit_in_password(password1):\n",
    "    password = str(password1)\n",
    "    for x in password:\n",
    "        if x in \"0123456789\":\n",
    "            return 1\n",
    "    return 0\n",
    "df[\"digit\"] = df.apply(lambda x: is_digit_in_password(x[\"password\"]), axis=1)"
   ]
  },
  {
   "cell_type": "code",
   "execution_count": 89,
   "id": "e4aa974a",
   "metadata": {
    "id": "e4aa974a"
   },
   "outputs": [],
   "source": [
    "def lower_upper(password1):\n",
    "    password = str(password1)\n",
    "    if not(password.lower() == password or password.upper() == password):\n",
    "        return 1\n",
    "    return 0\n",
    "df[\"lower & upper\"] = df.apply(lambda x: lower_upper(x[\"password\"]), axis=1)"
   ]
  },
  {
   "cell_type": "code",
   "execution_count": 90,
   "id": "5d7dad45",
   "metadata": {
    "id": "5d7dad45"
   },
   "outputs": [],
   "source": [
    "def other_symbols(password1):\n",
    "    password = str(password1)\n",
    "    for x in password:\n",
    "        if x not in \"0123456789\" and x not in \"ABCDEFGHIJKLMNOPQRSTUVWXYZ\" and x not in \"ABCDEFGHIJKLMNOPQRSTUVWXYZ\".lower():\n",
    "            return 1\n",
    "    return 0\n",
    "df[\"other_symbols\"] = df.apply(lambda x: other_symbols(x[\"password\"]), axis=1)"
   ]
  },
  {
   "cell_type": "code",
   "execution_count": 91,
   "id": "59c1db9a",
   "metadata": {},
   "outputs": [],
   "source": [
    "def distinct_symbols(password1):\n",
    "    password = str(password1)\n",
    "    c = 0\n",
    "    p = \"\"\n",
    "    for x in password:\n",
    "        if x not in p:\n",
    "            c += 1\n",
    "            p += x\n",
    "    return c\n",
    "df[\"distinct_symbols\"] = df.apply(lambda x: distinct_symbols(x[\"password\"]), axis=1)"
   ]
  },
  {
   "cell_type": "markdown",
   "id": "39678eb0",
   "metadata": {},
   "source": [
    "# 2. Анализ данных"
   ]
  },
  {
   "cell_type": "markdown",
   "id": "3bc32ec1",
   "metadata": {},
   "source": [
    "**Для наглядности выведем на экран 20 случайных записей нашего dataframe**"
   ]
  },
  {
   "cell_type": "code",
   "execution_count": 92,
   "id": "2b608804",
   "metadata": {
    "colab": {
     "base_uri": "https://localhost:8080/",
     "height": 1000
    },
    "id": "2b608804",
    "outputId": "1fbd188d-7310-4aa6-bfb4-fa0e35df0782"
   },
   "outputs": [
    {
     "data": {
      "text/html": [
       "<div>\n",
       "<style scoped>\n",
       "    .dataframe tbody tr th:only-of-type {\n",
       "        vertical-align: middle;\n",
       "    }\n",
       "\n",
       "    .dataframe tbody tr th {\n",
       "        vertical-align: top;\n",
       "    }\n",
       "\n",
       "    .dataframe thead th {\n",
       "        text-align: right;\n",
       "    }\n",
       "</style>\n",
       "<table border=\"1\" class=\"dataframe\">\n",
       "  <thead>\n",
       "    <tr style=\"text-align: right;\">\n",
       "      <th></th>\n",
       "      <th>password</th>\n",
       "      <th>strength</th>\n",
       "      <th>length</th>\n",
       "      <th>digit</th>\n",
       "      <th>lower &amp; upper</th>\n",
       "      <th>other_symbols</th>\n",
       "      <th>distinct_symbols</th>\n",
       "    </tr>\n",
       "  </thead>\n",
       "  <tbody>\n",
       "    <tr>\n",
       "      <th>5982</th>\n",
       "      <td>luthien123</td>\n",
       "      <td>1</td>\n",
       "      <td>10</td>\n",
       "      <td>1</td>\n",
       "      <td>0</td>\n",
       "      <td>0</td>\n",
       "      <td>10</td>\n",
       "    </tr>\n",
       "    <tr>\n",
       "      <th>23211</th>\n",
       "      <td>mrh121594</td>\n",
       "      <td>1</td>\n",
       "      <td>9</td>\n",
       "      <td>1</td>\n",
       "      <td>0</td>\n",
       "      <td>0</td>\n",
       "      <td>8</td>\n",
       "    </tr>\n",
       "    <tr>\n",
       "      <th>14320</th>\n",
       "      <td>zzzzzzzzzzzzzzzz</td>\n",
       "      <td>0</td>\n",
       "      <td>16</td>\n",
       "      <td>0</td>\n",
       "      <td>0</td>\n",
       "      <td>0</td>\n",
       "      <td>1</td>\n",
       "    </tr>\n",
       "    <tr>\n",
       "      <th>10897</th>\n",
       "      <td>sebo82</td>\n",
       "      <td>0</td>\n",
       "      <td>6</td>\n",
       "      <td>1</td>\n",
       "      <td>0</td>\n",
       "      <td>0</td>\n",
       "      <td>6</td>\n",
       "    </tr>\n",
       "    <tr>\n",
       "      <th>13720</th>\n",
       "      <td>8sbSns7yktLqkHKW0scvBYq1taD1</td>\n",
       "      <td>2</td>\n",
       "      <td>28</td>\n",
       "      <td>1</td>\n",
       "      <td>1</td>\n",
       "      <td>0</td>\n",
       "      <td>22</td>\n",
       "    </tr>\n",
       "    <tr>\n",
       "      <th>11580</th>\n",
       "      <td>algoritmo7</td>\n",
       "      <td>1</td>\n",
       "      <td>10</td>\n",
       "      <td>1</td>\n",
       "      <td>0</td>\n",
       "      <td>0</td>\n",
       "      <td>9</td>\n",
       "    </tr>\n",
       "    <tr>\n",
       "      <th>7243</th>\n",
       "      <td>wing03</td>\n",
       "      <td>0</td>\n",
       "      <td>6</td>\n",
       "      <td>1</td>\n",
       "      <td>0</td>\n",
       "      <td>0</td>\n",
       "      <td>6</td>\n",
       "    </tr>\n",
       "    <tr>\n",
       "      <th>21291</th>\n",
       "      <td>ХХХХХХХ</td>\n",
       "      <td>0</td>\n",
       "      <td>7</td>\n",
       "      <td>0</td>\n",
       "      <td>0</td>\n",
       "      <td>1</td>\n",
       "      <td>1</td>\n",
       "    </tr>\n",
       "    <tr>\n",
       "      <th>7044</th>\n",
       "      <td>yrakon617</td>\n",
       "      <td>1</td>\n",
       "      <td>9</td>\n",
       "      <td>1</td>\n",
       "      <td>0</td>\n",
       "      <td>0</td>\n",
       "      <td>9</td>\n",
       "    </tr>\n",
       "    <tr>\n",
       "      <th>9586</th>\n",
       "      <td>GGGGGGGG</td>\n",
       "      <td>0</td>\n",
       "      <td>8</td>\n",
       "      <td>0</td>\n",
       "      <td>0</td>\n",
       "      <td>0</td>\n",
       "      <td>1</td>\n",
       "    </tr>\n",
       "    <tr>\n",
       "      <th>21003</th>\n",
       "      <td>gompe86</td>\n",
       "      <td>0</td>\n",
       "      <td>7</td>\n",
       "      <td>1</td>\n",
       "      <td>0</td>\n",
       "      <td>0</td>\n",
       "      <td>7</td>\n",
       "    </tr>\n",
       "    <tr>\n",
       "      <th>789</th>\n",
       "      <td>mrolimpia1</td>\n",
       "      <td>1</td>\n",
       "      <td>10</td>\n",
       "      <td>1</td>\n",
       "      <td>0</td>\n",
       "      <td>0</td>\n",
       "      <td>8</td>\n",
       "    </tr>\n",
       "    <tr>\n",
       "      <th>3935</th>\n",
       "      <td>ubelih465</td>\n",
       "      <td>1</td>\n",
       "      <td>9</td>\n",
       "      <td>1</td>\n",
       "      <td>0</td>\n",
       "      <td>0</td>\n",
       "      <td>9</td>\n",
       "    </tr>\n",
       "    <tr>\n",
       "      <th>20798</th>\n",
       "      <td>axulib376</td>\n",
       "      <td>1</td>\n",
       "      <td>9</td>\n",
       "      <td>1</td>\n",
       "      <td>0</td>\n",
       "      <td>0</td>\n",
       "      <td>9</td>\n",
       "    </tr>\n",
       "    <tr>\n",
       "      <th>13650</th>\n",
       "      <td>loop22</td>\n",
       "      <td>0</td>\n",
       "      <td>6</td>\n",
       "      <td>1</td>\n",
       "      <td>0</td>\n",
       "      <td>0</td>\n",
       "      <td>4</td>\n",
       "    </tr>\n",
       "    <tr>\n",
       "      <th>7538</th>\n",
       "      <td>fhbkps786</td>\n",
       "      <td>1</td>\n",
       "      <td>9</td>\n",
       "      <td>1</td>\n",
       "      <td>0</td>\n",
       "      <td>0</td>\n",
       "      <td>9</td>\n",
       "    </tr>\n",
       "    <tr>\n",
       "      <th>19827</th>\n",
       "      <td>a75431129</td>\n",
       "      <td>1</td>\n",
       "      <td>9</td>\n",
       "      <td>1</td>\n",
       "      <td>0</td>\n",
       "      <td>0</td>\n",
       "      <td>8</td>\n",
       "    </tr>\n",
       "    <tr>\n",
       "      <th>2762</th>\n",
       "      <td>satrjcrj6</td>\n",
       "      <td>1</td>\n",
       "      <td>9</td>\n",
       "      <td>1</td>\n",
       "      <td>0</td>\n",
       "      <td>0</td>\n",
       "      <td>7</td>\n",
       "    </tr>\n",
       "    <tr>\n",
       "      <th>1356</th>\n",
       "      <td>sky21184</td>\n",
       "      <td>1</td>\n",
       "      <td>8</td>\n",
       "      <td>1</td>\n",
       "      <td>0</td>\n",
       "      <td>0</td>\n",
       "      <td>7</td>\n",
       "    </tr>\n",
       "    <tr>\n",
       "      <th>5505</th>\n",
       "      <td>opemuk895</td>\n",
       "      <td>1</td>\n",
       "      <td>9</td>\n",
       "      <td>1</td>\n",
       "      <td>0</td>\n",
       "      <td>0</td>\n",
       "      <td>9</td>\n",
       "    </tr>\n",
       "  </tbody>\n",
       "</table>\n",
       "</div>"
      ],
      "text/plain": [
       "                           password  strength  length  digit  lower & upper  \\\n",
       "5982                     luthien123         1      10      1              0   \n",
       "23211                     mrh121594         1       9      1              0   \n",
       "14320              zzzzzzzzzzzzzzzz         0      16      0              0   \n",
       "10897                        sebo82         0       6      1              0   \n",
       "13720  8sbSns7yktLqkHKW0scvBYq1taD1         2      28      1              1   \n",
       "11580                    algoritmo7         1      10      1              0   \n",
       "7243                         wing03         0       6      1              0   \n",
       "21291                       ХХХХХХХ         0       7      0              0   \n",
       "7044                      yrakon617         1       9      1              0   \n",
       "9586                       GGGGGGGG         0       8      0              0   \n",
       "21003                       gompe86         0       7      1              0   \n",
       "789                      mrolimpia1         1      10      1              0   \n",
       "3935                      ubelih465         1       9      1              0   \n",
       "20798                     axulib376         1       9      1              0   \n",
       "13650                        loop22         0       6      1              0   \n",
       "7538                      fhbkps786         1       9      1              0   \n",
       "19827                     a75431129         1       9      1              0   \n",
       "2762                      satrjcrj6         1       9      1              0   \n",
       "1356                       sky21184         1       8      1              0   \n",
       "5505                      opemuk895         1       9      1              0   \n",
       "\n",
       "       other_symbols  distinct_symbols  \n",
       "5982               0                10  \n",
       "23211              0                 8  \n",
       "14320              0                 1  \n",
       "10897              0                 6  \n",
       "13720              0                22  \n",
       "11580              0                 9  \n",
       "7243               0                 6  \n",
       "21291              1                 1  \n",
       "7044               0                 9  \n",
       "9586               0                 1  \n",
       "21003              0                 7  \n",
       "789                0                 8  \n",
       "3935               0                 9  \n",
       "20798              0                 9  \n",
       "13650              0                 4  \n",
       "7538               0                 9  \n",
       "19827              0                 8  \n",
       "2762               0                 7  \n",
       "1356               0                 7  \n",
       "5505               0                 9  "
      ]
     },
     "execution_count": 92,
     "metadata": {},
     "output_type": "execute_result"
    }
   ],
   "source": [
    "df.sample(n=20)"
   ]
  },
  {
   "cell_type": "markdown",
   "id": "81135a28",
   "metadata": {},
   "source": [
    "**Признак strength - стойкость пароля ко взлому по шкале от 0 до 2.**\n",
    "\n",
    "**Изобразим на круговой диаграмме частотность каждой из оценки частотности паролей:**"
   ]
  },
  {
   "cell_type": "code",
   "execution_count": 93,
   "id": "c803a314",
   "metadata": {},
   "outputs": [
    {
     "data": {
      "image/png": "[encoded data removed]",
      "text/plain": [
       "<Figure size 432x288 with 1 Axes>"
      ]
     },
     "metadata": {},
     "output_type": "display_data"
    }
   ],
   "source": [
    "import matplotlib.pyplot as plt\n",
    "\n",
    "d0 = len(df[df[\"strength\"] == 0]) / len(df) * 100\n",
    "d1 = len(df[df[\"strength\"] == 1]) / len(df) * 100\n",
    "d2 = len(df[df[\"strength\"] == 2]) / len(df) * 100\n",
    "\n",
    "fig = plt.figure(figsize=(6, 4))\n",
    "ax = fig.add_subplot()\n",
    "vals = [d0, d1, d2]\n",
    "labels = ['''0 (слабый)\n",
    "{} %'''.format(round(d0, 2)), \n",
    "          '''1 (средний)\n",
    "{} %'''.format(round(d1, 2)), \n",
    "          '''2 (сильный)\n",
    "{} %'''.format(round(d2, 2))]\n",
    "colors = [\"#F04\", \"#EE0\", \"#0F0\"]\n",
    "ax.pie(vals, labels=labels, colors=colors)\n",
    "plt.title(\"Распределение паролей по стойкости ко взлому\")\n",
    "plt.show()"
   ]
  },
  {
   "cell_type": "markdown",
   "id": "4ddcb731",
   "metadata": {},
   "source": [
    "**Признак digit отвечает за содержание цифр в пароле (0 - нет, 1 - да).**\n",
    "\n",
    "**Изобразим на круговой диаграмме частотность паролей с цифрами и без соответственно:**"
   ]
  },
  {
   "cell_type": "code",
   "execution_count": 94,
   "id": "3ec93c30",
   "metadata": {},
   "outputs": [
    {
     "data": {
      "image/png": "[encoded data removed]",
      "text/plain": [
       "<Figure size 432x288 with 1 Axes>"
      ]
     },
     "metadata": {},
     "output_type": "display_data"
    }
   ],
   "source": [
    "d0 = len(df[df[\"digit\"] == 0]) / len(df) * 100\n",
    "d1 = len(df[df[\"digit\"] == 1]) / len(df) * 100\n",
    "\n",
    "fig = plt.figure(figsize=(6, 4))\n",
    "ax = fig.add_subplot()\n",
    "vals = [d0, d1]\n",
    "labels = ['''0 (нет цифр)\n",
    "{} %'''.format(round(d0, 2)), \n",
    "          '''1 (есть цифры)\n",
    "{} %'''.format(round(d1, 2))]\n",
    "colors = [\"#F04\", \"#0F0\"]\n",
    "ax.pie(vals, labels=labels, colors=colors)\n",
    "plt.title(\"Распределение паролей по наличию цифр\")\n",
    "plt.show()"
   ]
  },
  {
   "cell_type": "markdown",
   "id": "e1abd050",
   "metadata": {},
   "source": [
    "**Признак lower & upper - содержит ли пароль одновременно заглавные и строчные буквы (0 - нет, 1 - да)**\n",
    "\n",
    "**Изобразим на круговой диаграмме частотность паролей с буквами разных регистров и без них:**"
   ]
  },
  {
   "cell_type": "code",
   "execution_count": 95,
   "id": "ff5a5dec",
   "metadata": {},
   "outputs": [
    {
     "data": {
      "image/png": "[encoded data removed]",
      "text/plain": [
       "<Figure size 432x288 with 1 Axes>"
      ]
     },
     "metadata": {},
     "output_type": "display_data"
    }
   ],
   "source": [
    "d0 = len(df[df[\"lower & upper\"] == 0]) / len(df) * 100\n",
    "d1 = len(df[df[\"lower & upper\"] == 1]) / len(df) * 100\n",
    "\n",
    "fig = plt.figure(figsize=(6, 4))\n",
    "ax = fig.add_subplot()\n",
    "vals = [d0, d1]\n",
    "labels = ['''0 (нет букв разных регистров)\n",
    "{} %'''.format(round(d0, 2)), \n",
    "          '''1 (есть буквы разных регистров)\n",
    "{} %'''.format(round(d1, 2))]\n",
    "colors = [\"#F04\", \"#0F0\"]\n",
    "ax.pie(vals, labels=labels, colors=colors)\n",
    "plt.title(\"Распределение паролей по наличию букв разных регистров\")\n",
    "plt.show()"
   ]
  },
  {
   "cell_type": "markdown",
   "id": "b33273c5",
   "metadata": {},
   "source": [
    "**Признак other symbols - содержит ли пароль особые символы (0 - нет, 1 - да).**\n",
    "\n",
    "**Изобразим на круговой диаграмме доли паролей с особыми символами и без них соответственно**"
   ]
  },
  {
   "cell_type": "code",
   "execution_count": 96,
   "id": "a8240395",
   "metadata": {},
   "outputs": [
    {
     "data": {
      "image/png": "[encoded data removed]",
      "text/plain": [
       "<Figure size 432x288 with 1 Axes>"
      ]
     },
     "metadata": {},
     "output_type": "display_data"
    }
   ],
   "source": [
    "d0 = len(df[df[\"other_symbols\"] == 0]) / len(df) * 100\n",
    "d1 = len(df[df[\"other_symbols\"] == 1]) / len(df) * 100\n",
    "\n",
    "fig = plt.figure(figsize=(6, 4))\n",
    "ax = fig.add_subplot()\n",
    "vals = [d0, d1]\n",
    "labels = ['''0 (нет особых символов)\n",
    "{} %'''.format(round(d0, 2)), \n",
    "          '''1 (есть особые символы)\n",
    "{} %'''.format(round(d1, 2))]\n",
    "colors = [\"#F04\", \"#0F0\"]\n",
    "ax.pie(vals, labels=labels, colors=colors)\n",
    "plt.title(\"Распределение паролей по наличию букв разных регистров\")\n",
    "plt.show()"
   ]
  },
  {
   "cell_type": "markdown",
   "id": "bf38d3ff",
   "metadata": {},
   "source": [
    "**Признак length - длина пароля (количество символов).**\\\n",
    "**Признак distinct_symbols - количество уникальных символов пароля.**"
   ]
  },
  {
   "cell_type": "code",
   "execution_count": 97,
   "id": "8d683052",
   "metadata": {
    "colab": {
     "base_uri": "https://localhost:8080/"
    },
    "id": "8d683052",
    "outputId": "3dca00fa-1f90-4010-81fe-879a8710fca0"
   },
   "outputs": [
    {
     "name": "stdout",
     "output_type": "stream",
     "text": [
      "3 64\n"
     ]
    }
   ],
   "source": [
    "print(df[\"length\"].min(), df[\"length\"].max())"
   ]
  },
  {
   "cell_type": "code",
   "execution_count": 98,
   "id": "b9ef7fae",
   "metadata": {},
   "outputs": [
    {
     "name": "stdout",
     "output_type": "stream",
     "text": [
      "1 43\n"
     ]
    }
   ],
   "source": [
    "print(df[\"distinct_symbols\"].min(), df[\"distinct_symbols\"].max())"
   ]
  },
  {
   "cell_type": "markdown",
   "id": "e1f4550f",
   "metadata": {},
   "source": [
    "**Минимальная длина паролей из выборки - 1, а максимальная - 200.**\\\n",
    "**Минимальное количество уникальных символов паролей из выборки - 1, амаксимальная - 60.**\\"
   ]
  },
  {
   "cell_type": "markdown",
   "id": "8d4b4aa1",
   "metadata": {
    "id": "8d4b4aa1"
   },
   "source": [
    "**Отобразим частотность использования длин паролей на диаграмме рассеяния**"
   ]
  },
  {
   "cell_type": "code",
   "execution_count": 99,
   "id": "1b9b0882",
   "metadata": {
    "colab": {
     "base_uri": "https://localhost:8080/",
     "height": 410
    },
    "id": "1b9b0882",
    "outputId": "a365632e-5402-4b7b-98c8-f14abdae8fa8"
   },
   "outputs": [
    {
     "data": {
      "image/png": "[encoded data removed]",
      "text/plain": [
       "<Figure size 504x288 with 1 Axes>"
      ]
     },
     "metadata": {
      "needs_background": "light"
     },
     "output_type": "display_data"
    }
   ],
   "source": [
    "import matplotlib.pyplot as plt\n",
    "\n",
    "length_count = list(map(lambda x: len(df[df[\"length\"] == x]), [x for x in range(1, 221)]))\n",
    "fig = plt.figure(figsize=(7, 4))\n",
    "ax = fig.add_subplot()\n",
    "plt.title(\"Частотность использования паролей разных длин\")\n",
    "plt.xlabel(\"Длина пароля length\")\n",
    "plt.ylabel(\"Число паролей в базе данных\")\n",
    "ax.semilogy([x for x in range(1, 221)], length_count, color=\"#40F\")\n",
    "ax.grid()"
   ]
  },
  {
   "cell_type": "markdown",
   "id": "4c485892",
   "metadata": {},
   "source": [
    "**По графику видно, что наиболее популярны пароли длиной около 10 символов, а пароли длиной более 60-70 символов являются аномалиями и встречаются в единичных случаях. Тем не менее, эти аномалии недостаточно велики, чтобы повлиять на статистические показатели (среднее арифметическое, медиана, мода и другие) показатели огромной выборки.\n",
    "Поэтому выбрасывать их из датасета не имеет смысла.**"
   ]
  },
  {
   "cell_type": "code",
   "execution_count": 100,
   "id": "c02607ba",
   "metadata": {
    "colab": {
     "base_uri": "https://localhost:8080/"
    },
    "id": "c02607ba",
    "outputId": "9a27f829-51c1-4f0b-bdee-a49d2219ddb3"
   },
   "outputs": [
    {
     "name": "stdout",
     "output_type": "stream",
     "text": [
      "9\n"
     ]
    }
   ],
   "source": [
    "print(length_count.index(max(length_count)) + 1)"
   ]
  },
  {
   "cell_type": "markdown",
   "id": "f29f62ba",
   "metadata": {},
   "source": [
    "**Самое популярное значение длины пароля: 9.**"
   ]
  },
  {
   "cell_type": "markdown",
   "id": "29a4939d",
   "metadata": {},
   "source": [
    "**Для большей наглядности построим ещё столбчатую диаграмму и график:**"
   ]
  },
  {
   "cell_type": "code",
   "execution_count": 101,
   "id": "42fb9404",
   "metadata": {
    "id": "42fb9404"
   },
   "outputs": [],
   "source": [
    "def probability(length):\n",
    "    c = sum(length_count[1:length + 1]) / len(df)\n",
    "    return c\n",
    "probability_list = list(map(lambda x: probability(x), [x for x in range(1, 221)]))"
   ]
  },
  {
   "cell_type": "code",
   "execution_count": 102,
   "id": "64bdb87a",
   "metadata": {},
   "outputs": [
    {
     "data": {
      "image/png": "[encoded data removed]",
      "text/plain": [
       "<Figure size 504x288 with 1 Axes>"
      ]
     },
     "metadata": {
      "needs_background": "light"
     },
     "output_type": "display_data"
    }
   ],
   "source": [
    "fig = plt.figure(figsize=(7, 4))\n",
    "ax = fig.add_subplot()\n",
    "plt.title(\"Столбчатая диаграмма (используемость паролей разных длин, %)\")\n",
    "v1 = probability(5) - probability(0)\n",
    "v2 = probability(10) - probability(5)\n",
    "v3 = probability(25) - probability(10)\n",
    "v4 = probability(50) - probability(25)\n",
    "v5 = probability(100) - probability(50)\n",
    "v6 = probability(220) - probability(100)\n",
    "values = [100 * x for x in [v1, v2, v3, v4, v5, v6]]\n",
    "labels = [\"1-5\\n{} %\".format(round(v1, 5)), \n",
    "          \"6-10\\n{} %\".format(round(v2, 5)), \n",
    "          \"11-25\\n{} %\".format(round(v3, 5)), \n",
    "          \"26-50\\n{} %\".format(round(v4, 5)), \n",
    "          \"51-100\\n{} %\".format(round(v5, 5)), \n",
    "          \"101-220\\n{} %\".format(format(v6, \"f\"))] \n",
    "ax.set_yscale('log')\n",
    "colors = [\"#F00\", \"#FF0\", \"#0F0\", \"#0FF\", \"#00F\", \"#F0F\"]\n",
    "plt.bar(labels, values, color=colors)\n",
    "plt.show()"
   ]
  },
  {
   "cell_type": "code",
   "execution_count": 103,
   "id": "97761dc5",
   "metadata": {
    "colab": {
     "base_uri": "https://localhost:8080/",
     "height": 410
    },
    "id": "97761dc5",
    "outputId": "ba096a00-e850-455a-b3d5-d73d65bc7f8a"
   },
   "outputs": [
    {
     "data": {
      "image/png": "[encoded data removed]",
      "text/plain": [
       "<Figure size 504x288 with 1 Axes>"
      ]
     },
     "metadata": {
      "needs_background": "light"
     },
     "output_type": "display_data"
    }
   ],
   "source": [
    "fig = plt.figure(figsize=(7, 4))\n",
    "ax = fig.add_subplot()\n",
    "plt.title(\"Распределение длин паролей\")\n",
    "plt.xlabel(\"Число символов n\")\n",
    "plt.ylabel(\"Вероятность того, что пароль содержит <= n символов\")\n",
    "ax.plot([x for x in range(1, 221)], probability_list, color=\"#40F\")\n",
    "ax.grid()"
   ]
  },
  {
   "cell_type": "markdown",
   "id": "3047d32b",
   "metadata": {},
   "source": [
    "**Из этих двух графиков мы можем увидеть, что основную массу (>99%) составляют пароли длиной до 25 символов включительно.**"
   ]
  },
  {
   "cell_type": "markdown",
   "id": "0be0b083",
   "metadata": {
    "id": "0be0b083"
   },
   "source": [
    "# 3. Построение простых моделей"
   ]
  },
  {
   "cell_type": "markdown",
   "id": "35fa2ddf",
   "metadata": {
    "id": "35fa2ddf"
   },
   "source": [
    "## Модель I (логистическая регрессия)"
   ]
  },
  {
   "cell_type": "markdown",
   "id": "f8f855b7",
   "metadata": {
    "id": "f8f855b7"
   },
   "source": [
    "**В этой модели мы будем использовать логистическую регрессию - один из методов классификации. Рассмотрим несколько случаев с разным набором факторов.**"
   ]
  },
  {
   "cell_type": "markdown",
   "id": "5kdaEkaJ-jmh",
   "metadata": {
    "id": "5kdaEkaJ-jmh"
   },
   "source": [
    "**Случай 1**\\\n",
    "**В качестве факторов мы выберем все 4 атрибута пароля: длина, наличие цифр, букв разного регистра, специальных символов и количество уникальных символов**"
   ]
  },
  {
   "cell_type": "markdown",
   "id": "a99e9de2",
   "metadata": {
    "id": "a99e9de2"
   },
   "source": [
    "**Выделим целевую переменную и факторы**"
   ]
  },
  {
   "cell_type": "code",
   "execution_count": 104,
   "id": "a97a01a8",
   "metadata": {
    "id": "a97a01a8"
   },
   "outputs": [],
   "source": [
    "from sklearn.model_selection import train_test_split\n",
    "X = df.drop(\"strength\", axis=1).drop(\"password\", axis=1)\n",
    "Y = df.strength"
   ]
  },
  {
   "cell_type": "code",
   "execution_count": 105,
   "id": "9d8f87e1",
   "metadata": {
    "colab": {
     "base_uri": "https://localhost:8080/"
    },
    "id": "9d8f87e1",
    "outputId": "d8395633-59b7-4729-c93e-178802a2d904"
   },
   "outputs": [],
   "source": [
    "X_train, X_test, Y_train, Y_test = train_test_split(X, Y, test_size=0.2)"
   ]
  },
  {
   "cell_type": "code",
   "execution_count": 106,
   "id": "e5c6835a",
   "metadata": {
    "id": "e5c6835a"
   },
   "outputs": [],
   "source": [
    "from sklearn.linear_model import LogisticRegression\n",
    "from sklearn.model_selection import GridSearchCV"
   ]
  },
  {
   "cell_type": "code",
   "execution_count": 107,
   "id": "b7d0cc14",
   "metadata": {
    "colab": {
     "base_uri": "https://localhost:8080/",
     "height": 233
    },
    "id": "b7d0cc14",
    "outputId": "e5358063-cba4-432b-e70e-e3be0703b437"
   },
   "outputs": [
    {
     "name": "stderr",
     "output_type": "stream",
     "text": [
      "C:\\Users\\ilya-\\Anaconda3\\lib\\site-packages\\sklearn\\linear_model\\_sag.py:328: ConvergenceWarning: The max_iter was reached which means the coef_ did not converge\n",
      "  warnings.warn(\"The max_iter was reached which means \"\n",
      "C:\\Users\\ilya-\\Anaconda3\\lib\\site-packages\\sklearn\\linear_model\\_sag.py:328: ConvergenceWarning: The max_iter was reached which means the coef_ did not converge\n",
      "  warnings.warn(\"The max_iter was reached which means \"\n",
      "C:\\Users\\ilya-\\Anaconda3\\lib\\site-packages\\sklearn\\linear_model\\_sag.py:328: ConvergenceWarning: The max_iter was reached which means the coef_ did not converge\n",
      "  warnings.warn(\"The max_iter was reached which means \"\n",
      "C:\\Users\\ilya-\\Anaconda3\\lib\\site-packages\\sklearn\\linear_model\\_sag.py:328: ConvergenceWarning: The max_iter was reached which means the coef_ did not converge\n",
      "  warnings.warn(\"The max_iter was reached which means \"\n",
      "C:\\Users\\ilya-\\Anaconda3\\lib\\site-packages\\sklearn\\linear_model\\_sag.py:328: ConvergenceWarning: The max_iter was reached which means the coef_ did not converge\n",
      "  warnings.warn(\"The max_iter was reached which means \"\n",
      "C:\\Users\\ilya-\\Anaconda3\\lib\\site-packages\\sklearn\\linear_model\\_sag.py:328: ConvergenceWarning: The max_iter was reached which means the coef_ did not converge\n",
      "  warnings.warn(\"The max_iter was reached which means \"\n",
      "C:\\Users\\ilya-\\Anaconda3\\lib\\site-packages\\sklearn\\linear_model\\_sag.py:328: ConvergenceWarning: The max_iter was reached which means the coef_ did not converge\n",
      "  warnings.warn(\"The max_iter was reached which means \"\n",
      "C:\\Users\\ilya-\\Anaconda3\\lib\\site-packages\\sklearn\\linear_model\\_sag.py:328: ConvergenceWarning: The max_iter was reached which means the coef_ did not converge\n",
      "  warnings.warn(\"The max_iter was reached which means \"\n",
      "C:\\Users\\ilya-\\Anaconda3\\lib\\site-packages\\sklearn\\linear_model\\_sag.py:328: ConvergenceWarning: The max_iter was reached which means the coef_ did not converge\n",
      "  warnings.warn(\"The max_iter was reached which means \"\n"
     ]
    },
    {
     "name": "stdout",
     "output_type": "stream",
     "text": [
      "Wall time: 3.23 s\n"
     ]
    },
    {
     "name": "stderr",
     "output_type": "stream",
     "text": [
      "C:\\Users\\ilya-\\Anaconda3\\lib\\site-packages\\sklearn\\linear_model\\_sag.py:328: ConvergenceWarning: The max_iter was reached which means the coef_ did not converge\n",
      "  warnings.warn(\"The max_iter was reached which means \"\n"
     ]
    },
    {
     "data": {
      "text/plain": [
       "GridSearchCV(estimator=LogisticRegression(class_weight='balanced'),\n",
       "             param_grid={'solver': ('liblinear', 'sag', 'saga')})"
      ]
     },
     "execution_count": 107,
     "metadata": {},
     "output_type": "execute_result"
    }
   ],
   "source": [
    "%%time\n",
    "logistic = LogisticRegression(class_weight='balanced')\n",
    "parameters = {'solver':('liblinear', 'sag', 'saga')}\n",
    "clf = GridSearchCV(logistic, parameters)\n",
    "clf.fit(X_train, Y_train)"
   ]
  },
  {
   "cell_type": "code",
   "execution_count": 108,
   "id": "22b83e11",
   "metadata": {
    "id": "22b83e11"
   },
   "outputs": [],
   "source": [
    "Y_pred = clf.predict(X_test)"
   ]
  },
  {
   "cell_type": "markdown",
   "id": "c59ad91b",
   "metadata": {},
   "source": [
    "**Вычислим матрицу ошибок для этой модели**"
   ]
  },
  {
   "cell_type": "code",
   "execution_count": 109,
   "id": "724cdd0a",
   "metadata": {
    "colab": {
     "base_uri": "https://localhost:8080/"
    },
    "id": "724cdd0a",
    "outputId": "fef698f9-7874-4b78-cfd5-a21288c48f8c"
   },
   "outputs": [
    {
     "name": "stdout",
     "output_type": "stream",
     "text": [
      "[[1150  137    3]\n",
      " [  85 2866   20]\n",
      " [   0    0  501]]\n"
     ]
    }
   ],
   "source": [
    "from sklearn import metrics\n",
    "print(metrics.confusion_matrix(Y_test, Y_pred))"
   ]
  },
  {
   "cell_type": "markdown",
   "id": "6bee01ba",
   "metadata": {},
   "source": [
    "# 4. Сравнение и анализ моделей"
   ]
  },
  {
   "cell_type": "markdown",
   "id": "766f08b5",
   "metadata": {
    "id": "766f08b5"
   },
   "source": [
    "**Случай 2**\\\n",
    "**В качестве фактора возьмём один - длина пароля в символах.**"
   ]
  },
  {
   "cell_type": "markdown",
   "id": "0fcecc59",
   "metadata": {
    "id": "0fcecc59"
   },
   "source": [
    "**Выделим целевую переменную и факторы**"
   ]
  },
  {
   "cell_type": "code",
   "execution_count": 110,
   "id": "35dbd498",
   "metadata": {
    "id": "35dbd498"
   },
   "outputs": [],
   "source": [
    "X = df.drop(\"password\", axis=1).drop(\"strength\", axis=1).drop(\"digit\", axis=1).drop(\"lower & upper\", axis=1).drop(\"other_symbols\", axis=1).drop(\"distinct_symbols\", axis=1)\n",
    "Y = df.strength\n",
    "X_train, X_test, Y_train, Y_test = train_test_split(X, Y, test_size=0.2)"
   ]
  },
  {
   "cell_type": "code",
   "execution_count": 111,
   "id": "6591d945",
   "metadata": {
    "id": "6591d945"
   },
   "outputs": [
    {
     "name": "stderr",
     "output_type": "stream",
     "text": [
      "C:\\Users\\ilya-\\Anaconda3\\lib\\site-packages\\sklearn\\linear_model\\_sag.py:328: ConvergenceWarning: The max_iter was reached which means the coef_ did not converge\n",
      "  warnings.warn(\"The max_iter was reached which means \"\n",
      "C:\\Users\\ilya-\\Anaconda3\\lib\\site-packages\\sklearn\\linear_model\\_sag.py:328: ConvergenceWarning: The max_iter was reached which means the coef_ did not converge\n",
      "  warnings.warn(\"The max_iter was reached which means \"\n",
      "C:\\Users\\ilya-\\Anaconda3\\lib\\site-packages\\sklearn\\linear_model\\_sag.py:328: ConvergenceWarning: The max_iter was reached which means the coef_ did not converge\n",
      "  warnings.warn(\"The max_iter was reached which means \"\n",
      "C:\\Users\\ilya-\\Anaconda3\\lib\\site-packages\\sklearn\\linear_model\\_sag.py:328: ConvergenceWarning: The max_iter was reached which means the coef_ did not converge\n",
      "  warnings.warn(\"The max_iter was reached which means \"\n",
      "C:\\Users\\ilya-\\Anaconda3\\lib\\site-packages\\sklearn\\linear_model\\_sag.py:328: ConvergenceWarning: The max_iter was reached which means the coef_ did not converge\n",
      "  warnings.warn(\"The max_iter was reached which means \"\n",
      "C:\\Users\\ilya-\\Anaconda3\\lib\\site-packages\\sklearn\\linear_model\\_sag.py:328: ConvergenceWarning: The max_iter was reached which means the coef_ did not converge\n",
      "  warnings.warn(\"The max_iter was reached which means \"\n",
      "C:\\Users\\ilya-\\Anaconda3\\lib\\site-packages\\sklearn\\linear_model\\_sag.py:328: ConvergenceWarning: The max_iter was reached which means the coef_ did not converge\n",
      "  warnings.warn(\"The max_iter was reached which means \"\n",
      "C:\\Users\\ilya-\\Anaconda3\\lib\\site-packages\\sklearn\\linear_model\\_sag.py:328: ConvergenceWarning: The max_iter was reached which means the coef_ did not converge\n",
      "  warnings.warn(\"The max_iter was reached which means \"\n",
      "C:\\Users\\ilya-\\Anaconda3\\lib\\site-packages\\sklearn\\linear_model\\_sag.py:328: ConvergenceWarning: The max_iter was reached which means the coef_ did not converge\n",
      "  warnings.warn(\"The max_iter was reached which means \"\n"
     ]
    },
    {
     "name": "stdout",
     "output_type": "stream",
     "text": [
      "Wall time: 2.36 s\n"
     ]
    },
    {
     "name": "stderr",
     "output_type": "stream",
     "text": [
      "C:\\Users\\ilya-\\Anaconda3\\lib\\site-packages\\sklearn\\linear_model\\_sag.py:328: ConvergenceWarning: The max_iter was reached which means the coef_ did not converge\n",
      "  warnings.warn(\"The max_iter was reached which means \"\n"
     ]
    },
    {
     "data": {
      "text/plain": [
       "GridSearchCV(estimator=LogisticRegression(class_weight='balanced'),\n",
       "             param_grid={'solver': ('liblinear', 'sag', 'saga')})"
      ]
     },
     "execution_count": 111,
     "metadata": {},
     "output_type": "execute_result"
    }
   ],
   "source": [
    "%%time\n",
    "logistic = LogisticRegression(class_weight='balanced')#class_weight='balanced', solver='saga')\n",
    "parameters = {'solver':('liblinear', 'sag', 'saga')}\n",
    "#parameters = {'C': np.logspace(-4, 4, 50)}\n",
    "clf = GridSearchCV(logistic, parameters)\n",
    "clf.fit(X_train, Y_train)"
   ]
  },
  {
   "cell_type": "code",
   "execution_count": 112,
   "id": "4ebdf0d4",
   "metadata": {},
   "outputs": [],
   "source": [
    "Y_pred = clf.predict(X_test)"
   ]
  },
  {
   "cell_type": "code",
   "execution_count": 113,
   "id": "948a236d",
   "metadata": {
    "id": "948a236d"
   },
   "outputs": [
    {
     "name": "stdout",
     "output_type": "stream",
     "text": [
      "[[ 304  924   77]\n",
      " [   0 2977    0]\n",
      " [   0    0  480]]\n"
     ]
    }
   ],
   "source": [
    "print(metrics.confusion_matrix(Y_test, Y_pred))"
   ]
  },
  {
   "cell_type": "markdown",
   "id": "b15e6226",
   "metadata": {
    "id": "b15e6226"
   },
   "source": [
    "**Случай 3**\\\n",
    "**Попробуем в качестве фактора использовать наличие цифр**"
   ]
  },
  {
   "cell_type": "code",
   "execution_count": 114,
   "id": "c8db187b",
   "metadata": {
    "id": "c8db187b"
   },
   "outputs": [],
   "source": [
    "X = df.drop(\"password\", axis=1).drop(\"strength\", axis=1).drop(\"length\", axis=1).drop(\"lower & upper\", axis=1).drop(\"other_symbols\", axis=1).drop(\"distinct_symbols\", axis=1)\n",
    "Y = df.strength\n",
    "X_train, X_test, Y_train, Y_test = train_test_split(X, Y, test_size=0.2)"
   ]
  },
  {
   "cell_type": "code",
   "execution_count": 115,
   "id": "5f022dcf",
   "metadata": {
    "id": "5f022dcf"
   },
   "outputs": [
    {
     "name": "stdout",
     "output_type": "stream",
     "text": [
      "Wall time: 1.34 s\n"
     ]
    },
    {
     "data": {
      "text/plain": [
       "GridSearchCV(estimator=LogisticRegression(class_weight='balanced'),\n",
       "             param_grid={'solver': ('liblinear', 'sag', 'saga')})"
      ]
     },
     "execution_count": 115,
     "metadata": {},
     "output_type": "execute_result"
    }
   ],
   "source": [
    "%%time\n",
    "logistic = LogisticRegression(class_weight='balanced')#class_weight='balanced', solver='saga')\n",
    "parameters = {'solver':('liblinear', 'sag', 'saga')}\n",
    "clf = GridSearchCV(logistic, parameters)\n",
    "clf.fit(X_train, Y_train)"
   ]
  },
  {
   "cell_type": "code",
   "execution_count": 116,
   "id": "378fac4b",
   "metadata": {
    "id": "378fac4b"
   },
   "outputs": [],
   "source": [
    "Y_pred = clf.predict(X_test)"
   ]
  },
  {
   "cell_type": "code",
   "execution_count": 117,
   "id": "74d3eab9",
   "metadata": {},
   "outputs": [
    {
     "name": "stdout",
     "output_type": "stream",
     "text": [
      "[[ 708  588    0]\n",
      " [  21 2962    0]\n",
      " [   2  481    0]]\n"
     ]
    }
   ],
   "source": [
    "print(metrics.confusion_matrix(Y_test, Y_pred))\n",
    "#print(metrics.accuracy_score(Y_test, Y_pred))\n",
    "#print(metrics.precision_score(Y_test, Y_pred, average=None))\n",
    "#print(metrics.f1_score(Y_test, Y_pred, average=None))"
   ]
  },
  {
   "cell_type": "markdown",
   "id": "tJk1gGO8E_zQ",
   "metadata": {
    "id": "tJk1gGO8E_zQ"
   },
   "source": [
    "**Случай 4**\\\n",
    "**Попробуем в качестве фактора использовать наличие букв разных регистров**"
   ]
  },
  {
   "cell_type": "code",
   "execution_count": 118,
   "id": "uOfW5sdVE_zQ",
   "metadata": {
    "id": "uOfW5sdVE_zQ"
   },
   "outputs": [],
   "source": [
    "X = df.drop(\"password\", axis=1).drop(\"strength\", axis=1).drop(\"length\", axis=1).drop(\"digit\", axis=1).drop(\"other_symbols\", axis=1).drop(\"distinct_symbols\", axis=1)\n",
    "Y = df.strength\n",
    "X_train, X_test, Y_train, Y_test = train_test_split(X, Y, test_size=0.2)"
   ]
  },
  {
   "cell_type": "code",
   "execution_count": 119,
   "id": "GXgPOdXDE_zQ",
   "metadata": {
    "id": "GXgPOdXDE_zQ"
   },
   "outputs": [
    {
     "name": "stdout",
     "output_type": "stream",
     "text": [
      "Wall time: 519 ms\n"
     ]
    },
    {
     "data": {
      "text/plain": [
       "GridSearchCV(estimator=LogisticRegression(class_weight='balanced'),\n",
       "             param_grid={'solver': ('liblinear', 'sag', 'saga')})"
      ]
     },
     "execution_count": 119,
     "metadata": {},
     "output_type": "execute_result"
    }
   ],
   "source": [
    "%%time\n",
    "logistic = LogisticRegression(class_weight='balanced')#class_weight='balanced', solver='saga')\n",
    "parameters = {'solver':('liblinear', 'sag', 'saga')}\n",
    "clf = GridSearchCV(logistic, parameters)\n",
    "clf.fit(X_train, Y_train)"
   ]
  },
  {
   "cell_type": "code",
   "execution_count": 120,
   "id": "d0903ece",
   "metadata": {},
   "outputs": [],
   "source": [
    "Y_pred = clf.predict(X_test)"
   ]
  },
  {
   "cell_type": "code",
   "execution_count": 121,
   "id": "fzRxZ9ndE_zR",
   "metadata": {
    "id": "fzRxZ9ndE_zR"
   },
   "outputs": [
    {
     "name": "stdout",
     "output_type": "stream",
     "text": [
      "[[   0 1294    0]\n",
      " [   0 2945    1]\n",
      " [   0   45  477]]\n"
     ]
    }
   ],
   "source": [
    "print(metrics.confusion_matrix(Y_test, Y_pred))"
   ]
  },
  {
   "cell_type": "markdown",
   "id": "ZGXFeccXFk5r",
   "metadata": {
    "id": "ZGXFeccXFk5r"
   },
   "source": [
    "**Случай 5**\\\n",
    "**Попробуем в качестве фактора использовать наличие специальных символов**"
   ]
  },
  {
   "cell_type": "code",
   "execution_count": 122,
   "id": "HLOLZju1Fk5s",
   "metadata": {
    "id": "HLOLZju1Fk5s"
   },
   "outputs": [],
   "source": [
    "X = df.drop(\"password\", axis=1).drop(\"strength\", axis=1).drop(\"length\", axis=1).drop(\"digit\", axis=1).drop(\"lower & upper\", axis=1).drop(\"distinct_symbols\", axis=1)\n",
    "Y = df.strength\n",
    "X_train, X_test, Y_train, Y_test = train_test_split(X, Y, test_size=0.2)"
   ]
  },
  {
   "cell_type": "code",
   "execution_count": 123,
   "id": "VbR-EnUrFk5s",
   "metadata": {
    "id": "VbR-EnUrFk5s"
   },
   "outputs": [
    {
     "name": "stderr",
     "output_type": "stream",
     "text": [
      "C:\\Users\\ilya-\\Anaconda3\\lib\\site-packages\\sklearn\\linear_model\\_sag.py:328: ConvergenceWarning: The max_iter was reached which means the coef_ did not converge\n",
      "  warnings.warn(\"The max_iter was reached which means \"\n"
     ]
    },
    {
     "name": "stdout",
     "output_type": "stream",
     "text": [
      "Wall time: 1.28 s\n"
     ]
    },
    {
     "data": {
      "text/plain": [
       "GridSearchCV(estimator=LogisticRegression(class_weight='balanced'),\n",
       "             param_grid={'solver': ('liblinear', 'sag', 'saga')})"
      ]
     },
     "execution_count": 123,
     "metadata": {},
     "output_type": "execute_result"
    }
   ],
   "source": [
    "%%time\n",
    "logistic = LogisticRegression(class_weight='balanced')#class_weight='balanced', solver='saga')\n",
    "parameters = {'solver':('liblinear', 'sag', 'saga')}\n",
    "clf = GridSearchCV(logistic, parameters)\n",
    "clf.fit(X_train, Y_train)"
   ]
  },
  {
   "cell_type": "code",
   "execution_count": 124,
   "id": "d84ae1e9",
   "metadata": {},
   "outputs": [],
   "source": [
    "Y_pred = clf.predict(X_test)"
   ]
  },
  {
   "cell_type": "code",
   "execution_count": 125,
   "id": "kEoB-R1fFk5s",
   "metadata": {
    "id": "kEoB-R1fFk5s"
   },
   "outputs": [
    {
     "name": "stdout",
     "output_type": "stream",
     "text": [
      "[[ 439  842    0]\n",
      " [  25 2971    0]\n",
      " [  57  428    0]]\n"
     ]
    }
   ],
   "source": [
    "print(metrics.confusion_matrix(Y_test, Y_pred))\n",
    "#print(metrics.accuracy_score(Y_test, Y_pred))\n",
    "#print(metrics.precision_score(Y_test, Y_pred, average=None))\n",
    "#print(metrics.f1_score(Y_test, Y_pred, average=None))"
   ]
  },
  {
   "cell_type": "markdown",
   "id": "c77043ee",
   "metadata": {},
   "source": [
    "**Случай 6**\\\n",
    "**Попробуем в качестве фактора использовать количество уникальных символов пароля**"
   ]
  },
  {
   "cell_type": "code",
   "execution_count": 126,
   "id": "1a45a46c",
   "metadata": {},
   "outputs": [],
   "source": [
    "X = df.drop(\"password\", axis=1).drop(\"strength\", axis=1).drop(\"length\", axis=1).drop(\"digit\", axis=1).drop(\"lower & upper\", axis=1).drop(\"other_symbols\", axis=1)\n",
    "Y = df.strength\n",
    "X_train, X_test, Y_train, Y_test = train_test_split(X, Y, test_size=0.2)"
   ]
  },
  {
   "cell_type": "code",
   "execution_count": 127,
   "id": "def503a3",
   "metadata": {},
   "outputs": [
    {
     "name": "stderr",
     "output_type": "stream",
     "text": [
      "C:\\Users\\ilya-\\Anaconda3\\lib\\site-packages\\sklearn\\linear_model\\_sag.py:328: ConvergenceWarning: The max_iter was reached which means the coef_ did not converge\n",
      "  warnings.warn(\"The max_iter was reached which means \"\n",
      "C:\\Users\\ilya-\\Anaconda3\\lib\\site-packages\\sklearn\\linear_model\\_sag.py:328: ConvergenceWarning: The max_iter was reached which means the coef_ did not converge\n",
      "  warnings.warn(\"The max_iter was reached which means \"\n",
      "C:\\Users\\ilya-\\Anaconda3\\lib\\site-packages\\sklearn\\linear_model\\_sag.py:328: ConvergenceWarning: The max_iter was reached which means the coef_ did not converge\n",
      "  warnings.warn(\"The max_iter was reached which means \"\n",
      "C:\\Users\\ilya-\\Anaconda3\\lib\\site-packages\\sklearn\\linear_model\\_sag.py:328: ConvergenceWarning: The max_iter was reached which means the coef_ did not converge\n",
      "  warnings.warn(\"The max_iter was reached which means \"\n",
      "C:\\Users\\ilya-\\Anaconda3\\lib\\site-packages\\sklearn\\linear_model\\_sag.py:328: ConvergenceWarning: The max_iter was reached which means the coef_ did not converge\n",
      "  warnings.warn(\"The max_iter was reached which means \"\n",
      "C:\\Users\\ilya-\\Anaconda3\\lib\\site-packages\\sklearn\\linear_model\\_sag.py:328: ConvergenceWarning: The max_iter was reached which means the coef_ did not converge\n",
      "  warnings.warn(\"The max_iter was reached which means \"\n",
      "C:\\Users\\ilya-\\Anaconda3\\lib\\site-packages\\sklearn\\linear_model\\_sag.py:328: ConvergenceWarning: The max_iter was reached which means the coef_ did not converge\n",
      "  warnings.warn(\"The max_iter was reached which means \"\n",
      "C:\\Users\\ilya-\\Anaconda3\\lib\\site-packages\\sklearn\\linear_model\\_sag.py:328: ConvergenceWarning: The max_iter was reached which means the coef_ did not converge\n",
      "  warnings.warn(\"The max_iter was reached which means \"\n",
      "C:\\Users\\ilya-\\Anaconda3\\lib\\site-packages\\sklearn\\linear_model\\_sag.py:328: ConvergenceWarning: The max_iter was reached which means the coef_ did not converge\n",
      "  warnings.warn(\"The max_iter was reached which means \"\n"
     ]
    },
    {
     "name": "stdout",
     "output_type": "stream",
     "text": [
      "Wall time: 2.44 s\n"
     ]
    },
    {
     "name": "stderr",
     "output_type": "stream",
     "text": [
      "C:\\Users\\ilya-\\Anaconda3\\lib\\site-packages\\sklearn\\linear_model\\_sag.py:328: ConvergenceWarning: The max_iter was reached which means the coef_ did not converge\n",
      "  warnings.warn(\"The max_iter was reached which means \"\n"
     ]
    },
    {
     "data": {
      "text/plain": [
       "GridSearchCV(estimator=LogisticRegression(class_weight='balanced'),\n",
       "             param_grid={'solver': ('liblinear', 'sag', 'saga')})"
      ]
     },
     "execution_count": 127,
     "metadata": {},
     "output_type": "execute_result"
    }
   ],
   "source": [
    "%%time\n",
    "logistic = LogisticRegression(class_weight='balanced')#class_weight='balanced', solver='saga')\n",
    "parameters = {'solver':('liblinear', 'sag', 'saga')}\n",
    "clf = GridSearchCV(logistic, parameters)\n",
    "clf.fit(X_train, Y_train)"
   ]
  },
  {
   "cell_type": "code",
   "execution_count": 128,
   "id": "4753ea5f",
   "metadata": {},
   "outputs": [],
   "source": [
    "Y_pred = clf.predict(X_test)"
   ]
  },
  {
   "cell_type": "code",
   "execution_count": 129,
   "id": "7829b925",
   "metadata": {},
   "outputs": [
    {
     "name": "stdout",
     "output_type": "stream",
     "text": [
      "[[1144  116    0]\n",
      " [ 386 2557   71]\n",
      " [   0   30  458]]\n"
     ]
    }
   ],
   "source": [
    "print(metrics.confusion_matrix(Y_test, Y_pred))"
   ]
  },
  {
   "cell_type": "markdown",
   "id": "47e1a562",
   "metadata": {},
   "source": [
    "**Матрицы ошибок:**"
   ]
  },
  {
   "cell_type": "code",
   "execution_count": 130,
   "id": "i_TCdKzTAd9w",
   "metadata": {
    "id": "i_TCdKzTAd9w"
   },
   "outputs": [
    {
     "name": "stdout",
     "output_type": "stream",
     "text": [
      "Случай 1\n",
      "[[17806    45     1]\n",
      " [  102 98941   349]\n",
      " [    0     0 16732]]\n",
      "Случай 2\n",
      "[[17861    20     0]\n",
      " [    0 99066     5]\n",
      " [    0     0 17024]]\n",
      "Случай 3\n",
      "[[    0 17936     0]\n",
      " [    0 99362     0]\n",
      " [    0 16678     0]]\n",
      "Случай 4\n",
      "[[    0 17916    40]\n",
      " [    0 99467    39]\n",
      " [    0  1348 15166]]\n",
      "Случай 5\n",
      "[[    0 17840   319]\n",
      " [    0 97819  1245]\n",
      " [    0 14404  2349]]\n",
      "Случай 6\n",
      "[[ 5991 11989     0]\n",
      " [ 3593 93980  1873]\n",
      " [    2  1488 15060]]\n"
     ]
    }
   ],
   "source": [
    "print('Случай 1')\n",
    "print('''[[17806    45     1]\n",
    " [  102 98941   349]\n",
    " [    0     0 16732]]''')\n",
    "print('Случай 2')\n",
    "print('''[[17861    20     0]\n",
    " [    0 99066     5]\n",
    " [    0     0 17024]]''')\n",
    "print('Случай 3')\n",
    "print('''[[ 708  588    0]\n",
    " [  21 2962    0]\n",
    " [   2  481    0]]''')\n",
    "print('Случай 4')\n",
    "print('''[[   0 1294    0]\n",
    " [   0 2945    1]\n",
    " [   0   45  477]]''')\n",
    "print('Случай 5')\n",
    "print('''[[    0 17840   319]\n",
    " [    0 97819  1245]\n",
    " [    0 14404  2349]]''')\n",
    "print('Случай 6')\n",
    "print('''[[ 5991 11989     0]\n",
    " [ 3593 93980  1873]\n",
    " [    2  1488 15060]]''')"
   ]
  },
  {
   "cell_type": "markdown",
   "id": "e8d72f92",
   "metadata": {
    "id": "e8d72f92"
   },
   "source": [
    "**В случаях 2-5 собой однофакторную классификацию с факторами length, lower & upper, digit, other_symbols и distinct_symbols соответственно.**"
   ]
  },
  {
   "cell_type": "markdown",
   "id": "haMRXE-7Asz1",
   "metadata": {
    "id": "haMRXE-7Asz1"
   },
   "source": [
    "**Выяснилось, что в случае 2 классификация работает на наборе данных достаточно хорошо, а вот матрицы ошибок для случаев 3-5 показали не самые лучшие результаты - так, в них нет ни одного пароля, верного отнесённого к классу 0.**\\\n",
    "**Случай 6 имеет меньше \"ошибок\", но всё же его нельзя использовать для построения готовой модели - из всех паролей, фактически имеющих класс \"0\", моделью верно определена лишь треть.**\\\n",
    "**Попробуем рассмотреть комбинацию случаев 2 и 6, то есть с факторами длины и количества уникальных символов.**"
   ]
  },
  {
   "cell_type": "markdown",
   "id": "1ccdc6ce",
   "metadata": {
    "id": "1ccdc6ce"
   },
   "source": [
    "**Случай 7**\\\n",
    "**Попробуем в качестве факторов использовать длину пароля и количество уникальных символов**"
   ]
  },
  {
   "cell_type": "code",
   "execution_count": 131,
   "id": "561c478c",
   "metadata": {
    "id": "561c478c"
   },
   "outputs": [],
   "source": [
    "X = df.drop(\"password\", axis=1).drop(\"strength\", axis=1).drop(\"digit\", axis=1).drop(\"lower & upper\", axis=1).drop(\"other_symbols\", axis=1)\n",
    "Y = df.strength\n",
    "X_train, X_test, Y_train, Y_test = train_test_split(X, Y, test_size=0.2)"
   ]
  },
  {
   "cell_type": "code",
   "execution_count": 132,
   "id": "5d8b86ae",
   "metadata": {
    "id": "5d8b86ae"
   },
   "outputs": [
    {
     "name": "stderr",
     "output_type": "stream",
     "text": [
      "C:\\Users\\ilya-\\Anaconda3\\lib\\site-packages\\sklearn\\linear_model\\_sag.py:328: ConvergenceWarning: The max_iter was reached which means the coef_ did not converge\n",
      "  warnings.warn(\"The max_iter was reached which means \"\n",
      "C:\\Users\\ilya-\\Anaconda3\\lib\\site-packages\\sklearn\\linear_model\\_sag.py:328: ConvergenceWarning: The max_iter was reached which means the coef_ did not converge\n",
      "  warnings.warn(\"The max_iter was reached which means \"\n",
      "C:\\Users\\ilya-\\Anaconda3\\lib\\site-packages\\sklearn\\linear_model\\_sag.py:328: ConvergenceWarning: The max_iter was reached which means the coef_ did not converge\n",
      "  warnings.warn(\"The max_iter was reached which means \"\n",
      "C:\\Users\\ilya-\\Anaconda3\\lib\\site-packages\\sklearn\\linear_model\\_sag.py:328: ConvergenceWarning: The max_iter was reached which means the coef_ did not converge\n",
      "  warnings.warn(\"The max_iter was reached which means \"\n",
      "C:\\Users\\ilya-\\Anaconda3\\lib\\site-packages\\sklearn\\linear_model\\_sag.py:328: ConvergenceWarning: The max_iter was reached which means the coef_ did not converge\n",
      "  warnings.warn(\"The max_iter was reached which means \"\n",
      "C:\\Users\\ilya-\\Anaconda3\\lib\\site-packages\\sklearn\\linear_model\\_sag.py:328: ConvergenceWarning: The max_iter was reached which means the coef_ did not converge\n",
      "  warnings.warn(\"The max_iter was reached which means \"\n",
      "C:\\Users\\ilya-\\Anaconda3\\lib\\site-packages\\sklearn\\linear_model\\_sag.py:328: ConvergenceWarning: The max_iter was reached which means the coef_ did not converge\n",
      "  warnings.warn(\"The max_iter was reached which means \"\n",
      "C:\\Users\\ilya-\\Anaconda3\\lib\\site-packages\\sklearn\\linear_model\\_sag.py:328: ConvergenceWarning: The max_iter was reached which means the coef_ did not converge\n",
      "  warnings.warn(\"The max_iter was reached which means \"\n",
      "C:\\Users\\ilya-\\Anaconda3\\lib\\site-packages\\sklearn\\linear_model\\_sag.py:328: ConvergenceWarning: The max_iter was reached which means the coef_ did not converge\n",
      "  warnings.warn(\"The max_iter was reached which means \"\n"
     ]
    },
    {
     "name": "stdout",
     "output_type": "stream",
     "text": [
      "Wall time: 2.66 s\n"
     ]
    },
    {
     "name": "stderr",
     "output_type": "stream",
     "text": [
      "C:\\Users\\ilya-\\Anaconda3\\lib\\site-packages\\sklearn\\linear_model\\_sag.py:328: ConvergenceWarning: The max_iter was reached which means the coef_ did not converge\n",
      "  warnings.warn(\"The max_iter was reached which means \"\n"
     ]
    },
    {
     "data": {
      "text/plain": [
       "GridSearchCV(estimator=LogisticRegression(class_weight='balanced'),\n",
       "             param_grid={'solver': ('liblinear', 'sag', 'saga')})"
      ]
     },
     "execution_count": 132,
     "metadata": {},
     "output_type": "execute_result"
    }
   ],
   "source": [
    "%%time\n",
    "logistic = LogisticRegression(class_weight='balanced')\n",
    "parameters = {'solver':('liblinear', 'sag', 'saga')}\n",
    "clf = GridSearchCV(logistic, parameters)\n",
    "clf.fit(X_train, Y_train)"
   ]
  },
  {
   "cell_type": "code",
   "execution_count": 133,
   "id": "57220ed0",
   "metadata": {
    "id": "57220ed0"
   },
   "outputs": [],
   "source": [
    "Y_pred = clf.predict(X_test)"
   ]
  },
  {
   "cell_type": "code",
   "execution_count": 134,
   "id": "b7f9c2a2",
   "metadata": {},
   "outputs": [
    {
     "name": "stdout",
     "output_type": "stream",
     "text": [
      "[[1098  142    4]\n",
      " [ 109 2928    4]\n",
      " [   0    0  477]]\n"
     ]
    }
   ],
   "source": [
    "print(metrics.confusion_matrix(Y_test, Y_pred))"
   ]
  },
  {
   "cell_type": "markdown",
   "id": "3fe4cf6d",
   "metadata": {},
   "source": [
    "**Теперь изобразим матрицы ошибок для каждого случая, время обучения модели и найдём оптимальный из этих случаев**"
   ]
  },
  {
   "cell_type": "code",
   "execution_count": 135,
   "id": "cc7e54d1",
   "metadata": {
    "colab": {
     "base_uri": "https://localhost:8080/",
     "height": 235
    },
    "id": "cc7e54d1",
    "outputId": "f524f242-5adc-47be-fcb7-d79c35efd1d7"
   },
   "outputs": [
    {
     "name": "stdout",
     "output_type": "stream",
     "text": [
      "Случай 1, время обучения 3min 47s\n",
      "[[17806    45     1]\n",
      " [  102 98941   349]\n",
      " [    0     0 16732]]\n",
      "Случай 2, время обучения 2min 53s\n",
      "[[17861    20     0]\n",
      " [    0 99066     5]\n",
      " [    0     0 17024]]\n",
      "Случай 3, время обучения 1min 34s\n",
      "[[    0 17936     0]\n",
      " [    0 99362     0]\n",
      " [    0 16678     0]]\n",
      "Случай 4, время обучения 43.1 s\n",
      "[[    0 17916    40]\n",
      " [    0 99467    39]\n",
      " [    0  1348 15166]]\n",
      "Случай 5, время обучения 1min 14s\n",
      "[[    0 17840   319]\n",
      " [    0 97819  1245]\n",
      " [    0 14404  2349]]\n",
      "Случай 6, время обучения 1min 14s\n",
      "[[ 5991 11989     0]\n",
      " [ 3593 93980  1873]\n",
      " [    2  1488 15060]]\n",
      "Случай 7, время обучения 3min 20s\n",
      "[[17976    12     0]\n",
      " [    0 99376     9]\n",
      " [    0     0 16603]]\n"
     ]
    }
   ],
   "source": [
    "print('Случай 1, время обучения 3min 47s')\n",
    "print('''[[1150  137    3]\n",
    " [  85 2866   20]\n",
    " [   0    0  501]]''')\n",
    "print('Случай 2, время обучения 2min 53s')\n",
    "print('''[[ 304  924   77]\n",
    " [   0 2977    0]\n",
    " [   0    0  480]]''')\n",
    "print('Случай 3, время обучения 1min 34s')\n",
    "print('''[[ 304  924   77]\n",
    " [   0 2977    0]\n",
    " [   0    0  480]]''')\n",
    "print('Случай 4, время обучения 43.1 s')\n",
    "print('''[[    0 17916    40]\n",
    " [    0 99467    39]\n",
    " [    0  1348 15166]]''')\n",
    "print('Случай 5, время обучения 1min 14s')\n",
    "print('''[[ 439  842    0]\n",
    " [  25 2971    0]\n",
    " [  57  428    0]]''')\n",
    "print('Случай 6, время обучения 1min 14s')\n",
    "print('''[[1144  116    0]\n",
    " [ 386 2557   71]\n",
    " [   0   30  458]]''')\n",
    "print('Случай 7, время обучения 3min 20s')\n",
    "print('''[[1098  142    4]\n",
    " [ 109 2928    4]\n",
    " [   0    0  477]]''')"
   ]
  },
  {
   "cell_type": "markdown",
   "id": "3ba0dc70",
   "metadata": {},
   "source": [
    "# 5. Выводы"
   ]
  },
  {
   "cell_type": "markdown",
   "id": "b3bbae55",
   "metadata": {
    "id": "b3bbae55"
   },
   "source": [
    "**Лучшие результаты матрицы ошибок показали в случаях 2 и 7, их время обучения отличается незначительно.**\\\n",
    "**Для последующих моделей я возьму случай 7.**"
   ]
  },
  {
   "cell_type": "markdown",
   "id": "d246b1b3",
   "metadata": {},
   "source": [
    "# 6. Построение моделей с учётом выводов"
   ]
  },
  {
   "cell_type": "markdown",
   "id": "6m5QwuKnCRmO",
   "metadata": {
    "id": "6m5QwuKnCRmO"
   },
   "source": [
    "## Модель II (метод ближайших соседей)"
   ]
  },
  {
   "cell_type": "code",
   "execution_count": 136,
   "id": "04406b6f",
   "metadata": {},
   "outputs": [],
   "source": [
    "from sklearn.neighbors import KNeighborsRegressor\n",
    "\n",
    "X = df.drop(\"password\", axis=1).drop(\"strength\", axis=1).drop(\"digit\", axis=1).drop(\"lower & upper\", axis=1).drop(\"other_symbols\", axis=1)\n",
    "Y = df.strength\n",
    "X_train, X_test, Y_train, Y_test = train_test_split(X, Y, test_size=0.2)"
   ]
  },
  {
   "cell_type": "code",
   "execution_count": 137,
   "id": "9ea47f9e",
   "metadata": {
    "id": "9ea47f9e",
    "outputId": "5e8c34ed-801b-4d49-dd05-ea95376a754b",
    "scrolled": true
   },
   "outputs": [
    {
     "name": "stdout",
     "output_type": "stream",
     "text": [
      "Wall time: 1.59 s\n"
     ]
    },
    {
     "data": {
      "text/plain": [
       "GridSearchCV(estimator=KNeighborsRegressor(),\n",
       "             param_grid=[{'n_neighbors': [2, 5, 10],\n",
       "                          'weights': ['uniform', 'distance']}])"
      ]
     },
     "execution_count": 137,
     "metadata": {},
     "output_type": "execute_result"
    }
   ],
   "source": [
    "%%time\n",
    "regressor_n = KNeighborsRegressor()\n",
    "parameters = [{'n_neighbors': [2, 5, 10], 'weights': ['uniform','distance']}]\n",
    "clf2 = GridSearchCV(regressor_n, parameters)\n",
    "clf2.fit(X_train, Y_train)"
   ]
  },
  {
   "cell_type": "code",
   "execution_count": 138,
   "id": "72701805",
   "metadata": {
    "id": "72701805"
   },
   "outputs": [],
   "source": [
    "Y_pred = clf2.predict(X_test)"
   ]
  },
  {
   "cell_type": "code",
   "execution_count": 139,
   "id": "f6bb917e",
   "metadata": {
    "id": "f6bb917e",
    "outputId": "29750971-ef8c-4b07-ca12-4649f62907bf"
   },
   "outputs": [
    {
     "name": "stdout",
     "output_type": "stream",
     "text": [
      "[[1250    0    0]\n",
      " [   0 2971    0]\n",
      " [   0    0  541]]\n"
     ]
    }
   ],
   "source": [
    "print(metrics.confusion_matrix(list(Y_test), [int(x) for x in Y_pred]))"
   ]
  },
  {
   "cell_type": "markdown",
   "id": "WA0OAIYsCl7V",
   "metadata": {
    "id": "WA0OAIYsCl7V"
   },
   "source": [
    "## Модель III (метод опорных векторов)"
   ]
  },
  {
   "cell_type": "code",
   "execution_count": 174,
   "id": "86f5af57",
   "metadata": {},
   "outputs": [],
   "source": [
    "from sklearn.svm import SVC"
   ]
  },
  {
   "cell_type": "code",
   "execution_count": 175,
   "id": "23b31605",
   "metadata": {
    "id": "23b31605",
    "outputId": "550b9756-d10e-43eb-99bd-d56a8d1b4099"
   },
   "outputs": [
    {
     "name": "stdout",
     "output_type": "stream",
     "text": [
      "Wall time: 1.99 s\n"
     ]
    },
    {
     "data": {
      "text/plain": [
       "GridSearchCV(estimator=SVC(), param_grid={'C': [1, 10, 100, 1000]})"
      ]
     },
     "execution_count": 175,
     "metadata": {},
     "output_type": "execute_result"
    }
   ],
   "source": [
    "%%time\n",
    "svc = SVC()\n",
    "parameters = {'C':[1,10,100,1000]}\n",
    "clf3 = GridSearchCV(svc, parameters)\n",
    "clf3.fit(X_train, Y_train)"
   ]
  },
  {
   "cell_type": "code",
   "execution_count": 176,
   "id": "c53fbe0b",
   "metadata": {
    "id": "c53fbe0b"
   },
   "outputs": [],
   "source": [
    "Y_pred = clf3.predict(X_test)"
   ]
  },
  {
   "cell_type": "code",
   "execution_count": 177,
   "id": "7c1257cd",
   "metadata": {
    "id": "7c1257cd",
    "outputId": "dae13063-98d6-418e-ef8c-4aef9b966a7a"
   },
   "outputs": [
    {
     "name": "stdout",
     "output_type": "stream",
     "text": [
      "[[1250    0    0]\n",
      " [   0 2971    0]\n",
      " [   0    0  541]]\n"
     ]
    }
   ],
   "source": [
    "print(metrics.confusion_matrix(list(Y_test), [int(x) for x in Y_pred]))"
   ]
  },
  {
   "cell_type": "markdown",
   "id": "AtyHvETpC3lQ",
   "metadata": {
    "id": "AtyHvETpC3lQ"
   },
   "source": [
    "## Модель IV (классификатор дерева решений)"
   ]
  },
  {
   "cell_type": "code",
   "execution_count": 144,
   "id": "5660ba35",
   "metadata": {},
   "outputs": [],
   "source": [
    "from sklearn.tree import DecisionTreeRegressor"
   ]
  },
  {
   "cell_type": "code",
   "execution_count": 145,
   "id": "ab2090ab",
   "metadata": {
    "id": "ab2090ab",
    "outputId": "4570eadf-be8a-4391-bab3-f15c174e6d33"
   },
   "outputs": [
    {
     "name": "stdout",
     "output_type": "stream",
     "text": [
      "Wall time: 58 ms\n"
     ]
    },
    {
     "data": {
      "text/plain": [
       "GridSearchCV(estimator=DecisionTreeRegressor(),\n",
       "             param_grid={'splitter': ['best', 'random']})"
      ]
     },
     "execution_count": 145,
     "metadata": {},
     "output_type": "execute_result"
    }
   ],
   "source": [
    "%%time\n",
    "regressor = DecisionTreeRegressor()\n",
    "parameters = {\"splitter\": [\"best\", \"random\"]}\n",
    "clf4 = GridSearchCV(regressor, parameters)\n",
    "clf4.fit(X_train, Y_train)"
   ]
  },
  {
   "cell_type": "code",
   "execution_count": 146,
   "id": "740e0a18",
   "metadata": {
    "id": "740e0a18"
   },
   "outputs": [],
   "source": [
    "Y_pred = clf4.predict(X_test)"
   ]
  },
  {
   "cell_type": "code",
   "execution_count": 147,
   "id": "d0dcbf36",
   "metadata": {
    "id": "d0dcbf36",
    "outputId": "e244ddcc-b9b0-4796-ad24-11a7e75b0ead"
   },
   "outputs": [
    {
     "name": "stdout",
     "output_type": "stream",
     "text": [
      "[[1250    0    0]\n",
      " [   0 2971    0]\n",
      " [   0    0  541]]\n"
     ]
    }
   ],
   "source": [
    "print(metrics.confusion_matrix(list(Y_test), [int(x) for x in Y_pred]))"
   ]
  },
  {
   "cell_type": "markdown",
   "id": "c0LAg5_zDAMj",
   "metadata": {
    "id": "c0LAg5_zDAMj"
   },
   "source": [
    "## Модель V (метод Случайный лес (Random Forests))"
   ]
  },
  {
   "cell_type": "code",
   "execution_count": 148,
   "id": "c3c9bcef",
   "metadata": {},
   "outputs": [],
   "source": [
    "from sklearn.ensemble import RandomForestClassifier"
   ]
  },
  {
   "cell_type": "code",
   "execution_count": 149,
   "id": "2ee20808",
   "metadata": {
    "id": "2ee20808",
    "outputId": "6e0fc46b-ff33-4bee-e231-193060ca7dc7"
   },
   "outputs": [
    {
     "name": "stdout",
     "output_type": "stream",
     "text": [
      "Wall time: 29.5 s\n"
     ]
    },
    {
     "data": {
      "text/plain": [
       "GridSearchCV(estimator=RandomForestClassifier(),\n",
       "             param_grid={'max_features': ['auto', 'sqrt', 'log2'],\n",
       "                         'n_estimators': [200, 500]})"
      ]
     },
     "execution_count": 149,
     "metadata": {},
     "output_type": "execute_result"
    }
   ],
   "source": [
    "%%time\n",
    "rfc = RandomForestClassifier()\n",
    "parameters = { \n",
    "    'n_estimators': [200, 500],\n",
    "    'max_features': ['auto', 'sqrt', 'log2']\n",
    "}\n",
    "clf5 = GridSearchCV(rfc, parameters)\n",
    "clf5.fit(X_train, Y_train)"
   ]
  },
  {
   "cell_type": "code",
   "execution_count": 150,
   "id": "45a3b348",
   "metadata": {
    "id": "45a3b348"
   },
   "outputs": [],
   "source": [
    "Y_pred = clf5.predict(X_test)"
   ]
  },
  {
   "cell_type": "code",
   "execution_count": 151,
   "id": "c277f674",
   "metadata": {
    "id": "c277f674",
    "outputId": "fff23c61-a4e0-46c1-a894-a07b2afde2c0"
   },
   "outputs": [
    {
     "name": "stdout",
     "output_type": "stream",
     "text": [
      "[[1250    0    0]\n",
      " [   0 2971    0]\n",
      " [   0    0  541]]\n"
     ]
    }
   ],
   "source": [
    "print(metrics.confusion_matrix(list(Y_test), [int(x) for x in Y_pred]))"
   ]
  },
  {
   "cell_type": "markdown",
   "id": "PyGbQWLUDNfO",
   "metadata": {
    "id": "PyGbQWLUDNfO"
   },
   "source": [
    "## Модель VI (наивный байесовский метод (Naive Bayes))"
   ]
  },
  {
   "cell_type": "code",
   "execution_count": 152,
   "id": "e8e6aae3",
   "metadata": {},
   "outputs": [],
   "source": [
    "from sklearn.naive_bayes import MultinomialNB"
   ]
  },
  {
   "cell_type": "code",
   "execution_count": 153,
   "id": "fee7788d",
   "metadata": {
    "id": "fee7788d"
   },
   "outputs": [
    {
     "name": "stdout",
     "output_type": "stream",
     "text": [
      "Wall time: 62 ms\n"
     ]
    },
    {
     "data": {
      "text/plain": [
       "GridSearchCV(estimator=MultinomialNB(class_prior=[0.3, 0.6, 0.1]),\n",
       "             param_grid={'fit_prior': [True, False]})"
      ]
     },
     "execution_count": 153,
     "metadata": {},
     "output_type": "execute_result"
    }
   ],
   "source": [
    "%%time\n",
    "multi = MultinomialNB(class_prior=[0.3, 0.6, 0.1])\n",
    "parameters = { \n",
    "    'fit_prior': [True, False]}\n",
    "clf6 = GridSearchCV(multi, parameters)\n",
    "clf6.fit(X_train, Y_train)"
   ]
  },
  {
   "cell_type": "code",
   "execution_count": 154,
   "id": "4e8f1a6a",
   "metadata": {
    "id": "4e8f1a6a"
   },
   "outputs": [],
   "source": [
    "Y_pred = clf6.predict(X_test)"
   ]
  },
  {
   "cell_type": "code",
   "execution_count": 155,
   "id": "71a72feb",
   "metadata": {
    "id": "71a72feb",
    "outputId": "38d7145a-97f1-4dc5-9b7a-1131b1a9e13f"
   },
   "outputs": [
    {
     "name": "stdout",
     "output_type": "stream",
     "text": [
      "[[ 756  494    0]\n",
      " [  12 2959    0]\n",
      " [   0  541    0]]\n"
     ]
    }
   ],
   "source": [
    "print(metrics.confusion_matrix(list(Y_test), [int(x) for x in Y_pred]))"
   ]
  },
  {
   "cell_type": "markdown",
   "id": "e3015c50",
   "metadata": {},
   "source": [
    "## Модель VII (нелинейная классификация)"
   ]
  },
  {
   "cell_type": "code",
   "execution_count": 156,
   "id": "92b26022",
   "metadata": {},
   "outputs": [
    {
     "name": "stdout",
     "output_type": "stream",
     "text": [
      "Wall time: 2.55 s\n"
     ]
    },
    {
     "data": {
      "text/plain": [
       "GridSearchCV(estimator=SVC(C=10.0, gamma=0.1, random_state=1),\n",
       "             param_grid={'C': [1, 10, 100, 1000]})"
      ]
     },
     "execution_count": 156,
     "metadata": {},
     "output_type": "execute_result"
    }
   ],
   "source": [
    "%%time\n",
    "svm_rbf = SVC(kernel='rbf', random_state=1, gamma=0.10, C=10.0)\n",
    "parameters = {'C':[1,10,100,1000]}\n",
    "clf7 = GridSearchCV(svm_rbf, parameters)\n",
    "clf7.fit(X_train, Y_train)"
   ]
  },
  {
   "cell_type": "code",
   "execution_count": 157,
   "id": "c253820a",
   "metadata": {},
   "outputs": [],
   "source": [
    "Y_pred = clf7.predict(X_test)"
   ]
  },
  {
   "cell_type": "code",
   "execution_count": 158,
   "id": "d2127490",
   "metadata": {},
   "outputs": [
    {
     "name": "stdout",
     "output_type": "stream",
     "text": [
      "[[1250    0    0]\n",
      " [   2 2969    0]\n",
      " [   0    0  541]]\n"
     ]
    }
   ],
   "source": [
    "print(metrics.confusion_matrix(list(Y_test), [int(x) for x in Y_pred]))"
   ]
  },
  {
   "cell_type": "markdown",
   "id": "0758154d",
   "metadata": {},
   "source": [
    "**Найдём cross_val_score для каждой из моделей**"
   ]
  },
  {
   "cell_type": "markdown",
   "id": "6ed5d25f",
   "metadata": {},
   "source": [
    "**Модель I**"
   ]
  },
  {
   "cell_type": "code",
   "execution_count": 159,
   "id": "1a69687c",
   "metadata": {},
   "outputs": [
    {
     "name": "stderr",
     "output_type": "stream",
     "text": [
      "C:\\Users\\ilya-\\Anaconda3\\lib\\site-packages\\sklearn\\linear_model\\_sag.py:328: ConvergenceWarning: The max_iter was reached which means the coef_ did not converge\n",
      "  warnings.warn(\"The max_iter was reached which means \"\n",
      "C:\\Users\\ilya-\\Anaconda3\\lib\\site-packages\\sklearn\\linear_model\\_sag.py:328: ConvergenceWarning: The max_iter was reached which means the coef_ did not converge\n",
      "  warnings.warn(\"The max_iter was reached which means \"\n",
      "C:\\Users\\ilya-\\Anaconda3\\lib\\site-packages\\sklearn\\linear_model\\_sag.py:328: ConvergenceWarning: The max_iter was reached which means the coef_ did not converge\n",
      "  warnings.warn(\"The max_iter was reached which means \"\n",
      "C:\\Users\\ilya-\\Anaconda3\\lib\\site-packages\\sklearn\\linear_model\\_sag.py:328: ConvergenceWarning: The max_iter was reached which means the coef_ did not converge\n",
      "  warnings.warn(\"The max_iter was reached which means \"\n",
      "C:\\Users\\ilya-\\Anaconda3\\lib\\site-packages\\sklearn\\linear_model\\_sag.py:328: ConvergenceWarning: The max_iter was reached which means the coef_ did not converge\n",
      "  warnings.warn(\"The max_iter was reached which means \"\n",
      "C:\\Users\\ilya-\\Anaconda3\\lib\\site-packages\\sklearn\\linear_model\\_sag.py:328: ConvergenceWarning: The max_iter was reached which means the coef_ did not converge\n",
      "  warnings.warn(\"The max_iter was reached which means \"\n",
      "C:\\Users\\ilya-\\Anaconda3\\lib\\site-packages\\sklearn\\linear_model\\_sag.py:328: ConvergenceWarning: The max_iter was reached which means the coef_ did not converge\n",
      "  warnings.warn(\"The max_iter was reached which means \"\n",
      "C:\\Users\\ilya-\\Anaconda3\\lib\\site-packages\\sklearn\\linear_model\\_sag.py:328: ConvergenceWarning: The max_iter was reached which means the coef_ did not converge\n",
      "  warnings.warn(\"The max_iter was reached which means \"\n",
      "C:\\Users\\ilya-\\Anaconda3\\lib\\site-packages\\sklearn\\linear_model\\_sag.py:328: ConvergenceWarning: The max_iter was reached which means the coef_ did not converge\n",
      "  warnings.warn(\"The max_iter was reached which means \"\n",
      "C:\\Users\\ilya-\\Anaconda3\\lib\\site-packages\\sklearn\\linear_model\\_sag.py:328: ConvergenceWarning: The max_iter was reached which means the coef_ did not converge\n",
      "  warnings.warn(\"The max_iter was reached which means \"\n",
      "C:\\Users\\ilya-\\Anaconda3\\lib\\site-packages\\sklearn\\linear_model\\_sag.py:328: ConvergenceWarning: The max_iter was reached which means the coef_ did not converge\n",
      "  warnings.warn(\"The max_iter was reached which means \"\n",
      "C:\\Users\\ilya-\\Anaconda3\\lib\\site-packages\\sklearn\\linear_model\\_sag.py:328: ConvergenceWarning: The max_iter was reached which means the coef_ did not converge\n",
      "  warnings.warn(\"The max_iter was reached which means \"\n",
      "C:\\Users\\ilya-\\Anaconda3\\lib\\site-packages\\sklearn\\linear_model\\_sag.py:328: ConvergenceWarning: The max_iter was reached which means the coef_ did not converge\n",
      "  warnings.warn(\"The max_iter was reached which means \"\n",
      "C:\\Users\\ilya-\\Anaconda3\\lib\\site-packages\\sklearn\\linear_model\\_sag.py:328: ConvergenceWarning: The max_iter was reached which means the coef_ did not converge\n",
      "  warnings.warn(\"The max_iter was reached which means \"\n",
      "C:\\Users\\ilya-\\Anaconda3\\lib\\site-packages\\sklearn\\linear_model\\_sag.py:328: ConvergenceWarning: The max_iter was reached which means the coef_ did not converge\n",
      "  warnings.warn(\"The max_iter was reached which means \"\n",
      "C:\\Users\\ilya-\\Anaconda3\\lib\\site-packages\\sklearn\\linear_model\\_sag.py:328: ConvergenceWarning: The max_iter was reached which means the coef_ did not converge\n",
      "  warnings.warn(\"The max_iter was reached which means \"\n",
      "C:\\Users\\ilya-\\Anaconda3\\lib\\site-packages\\sklearn\\linear_model\\_sag.py:328: ConvergenceWarning: The max_iter was reached which means the coef_ did not converge\n",
      "  warnings.warn(\"The max_iter was reached which means \"\n",
      "C:\\Users\\ilya-\\Anaconda3\\lib\\site-packages\\sklearn\\linear_model\\_sag.py:328: ConvergenceWarning: The max_iter was reached which means the coef_ did not converge\n",
      "  warnings.warn(\"The max_iter was reached which means \"\n"
     ]
    },
    {
     "name": "stdout",
     "output_type": "stream",
     "text": [
      "0.9317933641327174\n"
     ]
    },
    {
     "name": "stderr",
     "output_type": "stream",
     "text": [
      "C:\\Users\\ilya-\\Anaconda3\\lib\\site-packages\\sklearn\\linear_model\\_sag.py:328: ConvergenceWarning: The max_iter was reached which means the coef_ did not converge\n",
      "  warnings.warn(\"The max_iter was reached which means \"\n",
      "C:\\Users\\ilya-\\Anaconda3\\lib\\site-packages\\sklearn\\linear_model\\_sag.py:328: ConvergenceWarning: The max_iter was reached which means the coef_ did not converge\n",
      "  warnings.warn(\"The max_iter was reached which means \"\n"
     ]
    }
   ],
   "source": [
    "from sklearn.model_selection import cross_val_score\n",
    "clf_scores1 = cross_val_score(clf, X, Y, cv=2)\n",
    "print(clf_scores1.mean())"
   ]
  },
  {
   "cell_type": "markdown",
   "id": "3b2230bb",
   "metadata": {},
   "source": [
    "**Модель II**"
   ]
  },
  {
   "cell_type": "code",
   "execution_count": 160,
   "id": "bd8cc8ef",
   "metadata": {},
   "outputs": [
    {
     "name": "stdout",
     "output_type": "stream",
     "text": [
      "0.999619605448375\n"
     ]
    }
   ],
   "source": [
    "clf_scores2 = cross_val_score(clf2, X, Y, cv=2)\n",
    "print(clf_scores2.mean())"
   ]
  },
  {
   "cell_type": "markdown",
   "id": "06de77db",
   "metadata": {},
   "source": [
    "**Модель III**"
   ]
  },
  {
   "cell_type": "code",
   "execution_count": 180,
   "id": "d0b8f1f2",
   "metadata": {},
   "outputs": [
    {
     "name": "stdout",
     "output_type": "stream",
     "text": [
      "1.0\n"
     ]
    }
   ],
   "source": [
    "clf_scores3 = cross_val_score(clf3, X, Y, cv=2)\n",
    "print(clf_scores3.mean())"
   ]
  },
  {
   "cell_type": "markdown",
   "id": "96227b2b",
   "metadata": {},
   "source": [
    "**Модель IV**"
   ]
  },
  {
   "cell_type": "code",
   "execution_count": 162,
   "id": "852ba451",
   "metadata": {},
   "outputs": [
    {
     "name": "stdout",
     "output_type": "stream",
     "text": [
      "0.9998781917496167\n"
     ]
    }
   ],
   "source": [
    "clf_scores4 = cross_val_score(clf4, X, Y, cv=2)\n",
    "print(clf_scores4.mean())"
   ]
  },
  {
   "cell_type": "markdown",
   "id": "af884e95",
   "metadata": {},
   "source": [
    "**Модель V**"
   ]
  },
  {
   "cell_type": "code",
   "execution_count": 163,
   "id": "db607403",
   "metadata": {},
   "outputs": [
    {
     "name": "stdout",
     "output_type": "stream",
     "text": [
      "1.0\n"
     ]
    }
   ],
   "source": [
    "clf_scores5 = cross_val_score(clf5, X, Y, cv=2)\n",
    "print(clf_scores5.mean())"
   ]
  },
  {
   "cell_type": "markdown",
   "id": "4070a286",
   "metadata": {},
   "source": [
    "**Модель VI**"
   ]
  },
  {
   "cell_type": "code",
   "execution_count": 164,
   "id": "fc7152f8",
   "metadata": {},
   "outputs": [
    {
     "name": "stdout",
     "output_type": "stream",
     "text": [
      "0.7778244435111298\n"
     ]
    }
   ],
   "source": [
    "clf_scores6 = cross_val_score(clf6, X, Y, cv=2)\n",
    "print(clf_scores6.mean())"
   ]
  },
  {
   "cell_type": "markdown",
   "id": "7e53baa0",
   "metadata": {},
   "source": [
    "**Модель VII**"
   ]
  },
  {
   "cell_type": "code",
   "execution_count": 165,
   "id": "4c9ab28e",
   "metadata": {},
   "outputs": [
    {
     "name": "stdout",
     "output_type": "stream",
     "text": [
      "0.9998740025199496\n"
     ]
    }
   ],
   "source": [
    "clf_scores7 = cross_val_score(clf7, X, Y, cv=2)\n",
    "print(clf_scores7.mean())"
   ]
  },
  {
   "cell_type": "markdown",
   "id": "879fbb87",
   "metadata": {},
   "source": [
    "**Изобразим для каждой модели время обучения и cross_val_score на графике**"
   ]
  },
  {
   "cell_type": "code",
   "execution_count": 166,
   "id": "1c907081",
   "metadata": {},
   "outputs": [],
   "source": [
    "time = [2.66, 1.56, 39.1, 0.064, 32.7, 0.062, 7.85]"
   ]
  },
  {
   "cell_type": "code",
   "execution_count": 167,
   "id": "a0aa014f",
   "metadata": {},
   "outputs": [
    {
     "data": {
      "image/png": "[encoded data removed]",
      "text/plain": [
       "<Figure size 432x288 with 1 Axes>"
      ]
     },
     "metadata": {
      "needs_background": "light"
     },
     "output_type": "display_data"
    }
   ],
   "source": [
    "groups = [\"I\", \"II\", \"III\", \"IV\", \"V\", \"VI\", \"VII\"]\n",
    "colors = [\"#F00\", \"#FA0\", \"#FE0\", \"#0F0\", \"#0FF\", \"#50F\", \"#C0F\"]\n",
    "fig, ax = plt.subplots()\n",
    "ax.set_yscale('log')\n",
    "plt.bar(groups, time, color=colors)\n",
    "plt.title(\"Временные затраты моделей\")\n",
    "plt.show()"
   ]
  },
  {
   "cell_type": "code",
   "execution_count": 184,
   "id": "04b394a8",
   "metadata": {},
   "outputs": [
    {
     "data": {
      "image/png": "[encoded data removed]",
      "text/plain": [
       "<Figure size 432x288 with 1 Axes>"
      ]
     },
     "metadata": {
      "needs_background": "light"
     },
     "output_type": "display_data"
    }
   ],
   "source": [
    "cross_val_scores = [clf_scores1.mean(),\n",
    "                    clf_scores2.mean(),\n",
    "                    clf_scores3.mean(),\n",
    "                    clf_scores4.mean(),\n",
    "                    clf_scores5.mean(),\n",
    "                    clf_scores6.mean(),\n",
    "                    clf_scores7.mean()]\n",
    "groups = [\"I\\n{}\".format(round(clf_scores1.mean(), 5)), \n",
    "          \"II\\n{}\".format(round(clf_scores2.mean(), 5)),\n",
    "          \"III\\n{}\".format(round(clf_scores3.mean(), 5)),\n",
    "          \"IV\\n{}\".format(round(clf_scores4.mean(), 5)),\n",
    "          \"V\\n{}\".format(round(clf_scores5.mean(), 5)),\n",
    "          \"VI\\n{}\".format(round(clf_scores6.mean(), 5)),\n",
    "          \"VII\\n{}\".format(round(clf_scores7.mean(), 5))]\n",
    "\n",
    "fig, ax = plt.subplots()\n",
    "plt.ylim(ymax = 1, ymin = 0)\n",
    "plt.bar(groups, cross_val_scores, color=colors)\n",
    "plt.title(\"cross_val_scores\")\n",
    "plt.show()"
   ]
  },
  {
   "cell_type": "markdown",
   "id": "7b0391c5",
   "metadata": {},
   "source": [
    "# 7. Итоговый результат"
   ]
  },
  {
   "cell_type": "markdown",
   "id": "13181ae5",
   "metadata": {},
   "source": [
    "**Модель IV (классификатор дерева решения) имеет время обучения 58 мс и значение cross_val_score равное 0,99988, по матрице ошибок неверно определённых значений нет.\\\n",
    "Модель V отличается тем, что ёе значение cross_val_score равно 1, но по времени обучения она значительно проигрывает (29,5 секунд).\\\n",
    "Высокую эффективность показали и модели II, III и VII, но время обучения их значительно выше, чем у модели IV. \\\n",
    "Модели I и VI имеют cross_val_score 0.93179 и 0.77782 соответственно, что значительно ниже, чем у остальных моделей.\\\n",
    "Таким образом, наиболее эффективной оказалась модель IV.**"
   ]
  }
 ],
 "metadata": {
  "colab": {
   "provenance": []
  },
  "kernelspec": {
   "display_name": "Python 3",
   "language": "python",
   "name": "python3"
  },
  "language_info": {
   "codemirror_mode": {
    "name": "ipython",
    "version": 3
   },
   "file_extension": ".py",
   "mimetype": "text/x-python",
   "name": "python",
   "nbconvert_exporter": "python",
   "pygments_lexer": "ipython3",
   "version": "3.8.8"
  }
 },
 "nbformat": 4,
 "nbformat_minor": 5
}
